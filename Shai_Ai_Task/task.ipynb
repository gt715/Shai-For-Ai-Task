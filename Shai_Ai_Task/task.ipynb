{
 "cells": [
  {
   "cell_type": "markdown",
   "metadata": {},
   "source": [
    "Import the libraries"
   ]
  },
  {
   "cell_type": "code",
   "execution_count": null,
   "metadata": {},
   "outputs": [],
   "source": [
    "import pandas as pd\n",
    "import numpy as np\n",
    "import statistics\n",
    "import matplotlib.pyplot as plt"
   ]
  },
  {
   "cell_type": "markdown",
   "metadata": {},
   "source": [
    "Load thedataframe"
   ]
  },
  {
   "cell_type": "code",
   "execution_count": null,
   "metadata": {},
   "outputs": [],
   "source": [
    "#load the dataframe\n",
    "df = pd.read_csv('C:\\\\Games\\\\DB project\\\\Shai_Ai_Task\\\\Salaries.csv') #dont forget to change the path of the dataframe"
   ]
  },
  {
   "cell_type": "markdown",
   "metadata": {},
   "source": [
    "1.Explore the dataframe"
   ]
  },
  {
   "cell_type": "code",
   "execution_count": null,
   "metadata": {},
   "outputs": [],
   "source": [
    "print(df.info())  #show information about the dataframe"
   ]
  },
  {
   "cell_type": "code",
   "execution_count": null,
   "metadata": {},
   "outputs": [],
   "source": [
    "print(\"Shape of DataFrame: \",df.shape) #show number  of rows and columns in the dataframe"
   ]
  },
  {
   "cell_type": "markdown",
   "metadata": {},
   "source": [
    "2.Cleaning the dataframe"
   ]
  },
  {
   "cell_type": "code",
   "execution_count": null,
   "metadata": {},
   "outputs": [],
   "source": [
    "print(df.dtypes) #show the datatype of the  columns in the dataframe"
   ]
  },
  {
   "cell_type": "code",
   "execution_count": null,
   "metadata": {},
   "outputs": [],
   "source": [
    "print(df.isnull().any())  #check if there  is any missing data"
   ]
  },
  {
   "cell_type": "code",
   "execution_count": null,
   "metadata": {},
   "outputs": [],
   "source": [
    "print(df.isnull().sum()) #show number of messing values in each col in the dataframe"
   ]
  },
  {
   "cell_type": "code",
   "execution_count": null,
   "metadata": {},
   "outputs": [],
   "source": [
    "df.fillna(0, inplace=True) # replace the missing values with zero"
   ]
  },
  {
   "cell_type": "code",
   "execution_count": null,
   "metadata": {},
   "outputs": [],
   "source": [
    "print(df.isnull().any())  "
   ]
  },
  {
   "cell_type": "code",
   "execution_count": null,
   "metadata": {},
   "outputs": [],
   "source": [
    "# check if there is a negative values in the numerical cols in the dataframe\n",
    "for col in df.select_dtypes(include=[np.number]).columns: \n",
    "    if (df[col] < 0).any():\n",
    "        print(f\"Column '{col} :  T\")\n",
    "    else:\n",
    "        print(f\"Column '{col} :  F\")"
   ]
  },
  {
   "cell_type": "code",
   "execution_count": null,
   "metadata": {},
   "outputs": [],
   "source": [
    "# replace the negative values in the with zero\n",
    "for col in df.select_dtypes(include=[np.number]).columns: \n",
    "    df[col] = df[col].clip(lower=0)"
   ]
  },
  {
   "cell_type": "code",
   "execution_count": null,
   "metadata": {},
   "outputs": [],
   "source": [
    "# check again if there is a negative values in the dataframe\n",
    "for col in df.select_dtypes(include=[np.number]).columns:\n",
    "    if (df[col] < 0).any():\n",
    "        print(f\"Column '{col} :  T\")\n",
    "    else:\n",
    "        print(f\"Column '{col} :  F\")"
   ]
  },
  {
   "cell_type": "code",
   "execution_count": null,
   "metadata": {},
   "outputs": [],
   "source": [
    "# drop the unnecessary cols in the dataframe\n",
    "df = df.drop('Notes', axis=1)\n",
    "df = df.drop('Status', axis=1)\n",
    "df = df.drop('EmployeeName',axis=1)\n",
    "df = df.drop('Agency',axis=1)\n",
    "df=df.drop('Id',axis=1)"
   ]
  },
  {
   "cell_type": "code",
   "execution_count": null,
   "metadata": {},
   "outputs": [],
   "source": [
    "print(df.info())"
   ]
  },
  {
   "cell_type": "code",
   "execution_count": null,
   "metadata": {},
   "outputs": [],
   "source": [
    "numeric_cols = df.select_dtypes(include=[np.number]).columns.tolist() # store the numeric cols in temperory dataframe\n"
   ]
  },
  {
   "cell_type": "code",
   "execution_count": null,
   "metadata": {},
   "outputs": [],
   "source": [
    "# calculate the outliers in the numeric dataframe\n",
    "Q1=df[numeric_cols].quantile(.25)\n",
    "Q3=df[numeric_cols].quantile(.75)\n",
    "IQR=Q3-Q1\n",
    "outliers = (df[numeric_cols] < (Q1 - 1.5 * IQR)) | (df[numeric_cols] > (Q3 + 1.5 * IQR))\n",
    "print(outliers.sum())"
   ]
  },
  {
   "cell_type": "code",
   "execution_count": null,
   "metadata": {},
   "outputs": [],
   "source": [
    "print(df.duplicated().sum()) # show the number of duplicated rows in the dataframe"
   ]
  },
  {
   "cell_type": "code",
   "execution_count": null,
   "metadata": {},
   "outputs": [],
   "source": [
    "df.drop_duplicates(inplace=True) #remove the duplicated rows in the daraframe"
   ]
  },
  {
   "cell_type": "code",
   "execution_count": null,
   "metadata": {},
   "outputs": [],
   "source": [
    "print(df.duplicated().sum())"
   ]
  },
  {
   "cell_type": "code",
   "execution_count": null,
   "metadata": {},
   "outputs": [],
   "source": [
    "#checks if the numeric cols in the dataframe is right_calculated\n",
    "mask1 = df['TotalPay'] == df['BasePay'] + df['OvertimePay'] + df['OtherPay']\n",
    "if mask1.all:\n",
    "    print(\"[TotalPay] is right_calculated\\n \")\n",
    "else:\n",
    "    print(\"[TotalPay] isnt right_calculated\\n \")\n",
    "mask2 = ((df['TotalPayBenefits'] == df['TotalPay'] + df['Benefits']) & (df['TotalPayBenefits'] == df['BasePay'] + df['OvertimePay'] + df['OtherPay'] + df['Benefits']))\n",
    "if mask2.all:\n",
    "    print(\"[TotalPayBenefits] is right_calculated\\n\")\n",
    "else:\n",
    "    print(\"[TotalPayBenefits] isnt right_calculated\\n\")"
   ]
  },
  {
   "cell_type": "markdown",
   "metadata": {},
   "source": [
    "3.Statistics"
   ]
  },
  {
   "cell_type": "code",
   "execution_count": null,
   "metadata": {},
   "outputs": [],
   "source": [
    "stats = df['TotalPayBenefits'].agg(['mean', 'median', statistics.mode, 'min', 'max', 'std', lambda x: x.max() - x.min()]) # Calculate the basic statistics of the salary\n",
    "print(stats)"
   ]
  },
  {
   "cell_type": "code",
   "execution_count": null,
   "metadata": {},
   "outputs": [],
   "source": [
    "# Shows the mode you choose and the modes before it\n",
    "def modes(C):\n",
    "    values, counts = np.unique(df['TotalPayBenefits'], return_counts=True)\n",
    "    sorted_indices = np.argsort(-counts)\n",
    "    modes = []\n",
    "    for i in range(C):\n",
    "        if len(values) > i:\n",
    "            Mode = values[sorted_indices[i]]\n",
    "            Mode_Count = counts[sorted_indices[i]]\n",
    "            modes.append((Mode, Mode_Count))\n",
    "            print(f\"Mode number {i+1} is  : {Mode} , Count: {Mode_Count}\\n\")\n",
    "        else:\n",
    "            print(f\"There is no mode number {i+1}\\n\")\n",
    "            break\n",
    "modes(2)"
   ]
  },
  {
   "cell_type": "markdown",
   "metadata": {},
   "source": [
    "4.Visualizing"
   ]
  },
  {
   "cell_type": "code",
   "execution_count": null,
   "metadata": {},
   "outputs": [],
   "source": [
    "# Histogram shows the freq of the Salaries\n",
    "plt.hist(df['TotalPayBenefits'], bins=11, edgecolor='black')\n",
    "plt.title('Salary Distribution')\n",
    "plt.xlabel('Salary')\n",
    "plt.ylabel('Frequency')"
   ]
  },
  {
   "cell_type": "code",
   "execution_count": null,
   "metadata": {},
   "outputs": [],
   "source": [
    "# A piechart to show the percnetage of employees with the same job \n",
    "sample_df = df.sample(n=383)\n",
    "ss = sample_df['JobTitle'].value_counts()\n",
    "ss = ss[ss > 5]\n",
    "print(ss)\n",
    "P1 = plt.pie(ss, labels=ss.index, autopct='%1.1f%%')\n",
    "plt.title('Employees by Job_Title')"
   ]
  },
  {
   "cell_type": "code",
   "execution_count": null,
   "metadata": {},
   "outputs": [],
   "source": [
    "sub_df = df[df['JobTitle'].str.contains('Department', case=False)].copy() #create a sub_dataframe with  rows containing 'Department' in JobTitle"
   ]
  },
  {
   "cell_type": "code",
   "execution_count": null,
   "metadata": {},
   "outputs": [],
   "source": [
    "# A piechart shows the percnetage of the employees under the same Department\n",
    "sd = sub_df['JobTitle'].value_counts()\n",
    "sub_df.loc[:, 'Department'] = np.where(sub_df['JobTitle'].str.contains('Fire Department', case=False), 'Fire Department',\n",
    "np.where(sub_df['JobTitle'].str.contains('Police Department', case=False), 'Police Department', 'Other'))\n",
    "sub_df = sub_df[~(sub_df['Department'] == 'Other')]\n",
    "z = sub_df['Department'].value_counts()\n",
    "print(z)\n",
    "plt.pie(z, labels=z.index, autopct='%1.1f%%')\n",
    "plt.title('Employees by Departments')"
   ]
  },
  {
   "cell_type": "markdown",
   "metadata": {},
   "source": [
    "5.Analying the dataframe"
   ]
  },
  {
   "cell_type": "code",
   "execution_count": null,
   "metadata": {},
   "outputs": [],
   "source": [
    "sm = df.groupby('Year')['TotalPayBenefits'].agg(['mean', 'median', 'std'])# Calculates the summary statistics of the salaries grouped by the year\n",
    "print(sm)"
   ]
  },
  {
   "cell_type": "code",
   "execution_count": null,
   "metadata": {},
   "outputs": [],
   "source": [
    "smz = sub_df.groupby('Department')['TotalPayBenefits'].agg(['mean','median','std'])  # Calculates the summary statistics of the salaries grouped by the Department\n",
    "print(smz)\n"
   ]
  },
  {
   "cell_type": "code",
   "execution_count": null,
   "metadata": {},
   "outputs": [],
   "source": [
    "sdf = sub_df.groupby(['Department','Year'])['TotalPayBenefits'].agg(['mean','median','std']) # Calculates the summary statistics of the salaries grouped by the (Departmebts_Year)\n",
    "print(sdf)"
   ]
  },
  {
   "cell_type": "code",
   "execution_count": null,
   "metadata": {},
   "outputs": [],
   "source": [
    "# Compares between the previous means values\n",
    "mean1 = df.groupby('Year')['TotalPayBenefits'].mean()\n",
    "mean2 = sub_df.groupby('Department')['TotalPayBenefits'].mean()\n",
    "mean3 = sub_df.groupby('Year')['TotalPayBenefits'].mean()\n",
    "mean4 = sub_df.groupby(['Department','Year'])['TotalPayBenefits'].mean()\n",
    "df_mean1 = mean1.reset_index().rename(columns={'TotalPayBenefits': 'mean1'})\n",
    "df_mean2 = mean2.reset_index().rename(columns={'TotalPayBenefits': 'mean2'})\n",
    "df_mean3 = mean3.reset_index().rename(columns={'TotalPayBenefits': 'mean3'})\n",
    "df_mean4 = mean4.reset_index().rename(columns={'TotalPayBenefits': 'mean4'})\n",
    "df_means = pd.merge(df_mean1, df_mean4, on='Year', how='outer')\n",
    "df_means = pd.merge(df_means, df_mean2, on='Department', how='outer')\n",
    "df_means = pd.merge(df_means, df_mean3, on='Year', how='outer')\n",
    "print(df_means)"
   ]
  },
  {
   "cell_type": "code",
   "execution_count": null,
   "metadata": {},
   "outputs": [],
   "source": [
    "mean1.plot(kind='bar')\n",
    "plt.title('Average_Salaries per year')\n",
    "plt.ylabel('Average_Salaries')\n",
    "plt.xticks(rotation=0)"
   ]
  },
  {
   "cell_type": "code",
   "execution_count": null,
   "metadata": {},
   "outputs": [],
   "source": [
    "mean2.plot(kind='bar')\n",
    "plt.title('Average_Salaries per Departments')\n",
    "plt.ylabel('Average_Salaries')\n",
    "plt.xticks(rotation=0)"
   ]
  },
  {
   "cell_type": "code",
   "execution_count": null,
   "metadata": {},
   "outputs": [],
   "source": [
    "mean3.plot(kind='bar')\n",
    "plt.title('Mean Average_Salaries per Year for Departments')\n",
    "plt.ylabel('Average_Salaries')\n",
    "plt.xticks(rotation=0)"
   ]
  },
  {
   "cell_type": "code",
   "execution_count": null,
   "metadata": {},
   "outputs": [],
   "source": [
    "a = mean4.plot(kind='bar')\n",
    "labels = ['FD_2011', 'FD_2012', 'FD_2013', 'FD_2014', 'PD_2011', 'PD_2012', 'PD_2013', 'PD_2014']\n",
    "a.set_xticklabels(labels)\n",
    "plt.title('Average_Salaries per Departmebts_Year')\n",
    "plt.ylabel('Average_Salaries')\n",
    "plt.xticks(rotation=0)"
   ]
  },
  {
   "cell_type": "markdown",
   "metadata": {},
   "source": [
    "6.Correlations"
   ]
  },
  {
   "cell_type": "markdown",
   "metadata": {},
   "source": []
  },
  {
   "cell_type": "code",
   "execution_count": null,
   "metadata": {},
   "outputs": [],
   "source": [
    "#  calculate_and_visualize_correlation\n",
    "for col in numeric_cols:\n",
    "        if col != 'TotalPayBenefits': \n",
    "            correlation = df['TotalPayBenefits'].corr(df[col])\n",
    "            print(f'Correlation between Salary and {col}: {correlation}')\n",
    "            plt.scatter(df['TotalPayBenefits'], df[col])\t\t\t\t\n",
    "            plt.xlabel('Salary')\n",
    "            plt.ylabel(col)\n",
    "            plt.title(f'Salary vs {col}')\n",
    "            plt.show()"
   ]
  },
  {
   "cell_type": "code",
   "execution_count": null,
   "metadata": {},
   "outputs": [],
   "source": []
  }
 ],
 "metadata": {
  "kernelspec": {
   "display_name": "Python 3",
   "language": "python",
   "name": "python3"
  },
  "language_info": {
   "codemirror_mode": {
    "name": "ipython",
    "version": 3
   },
   "file_extension": ".py",
   "mimetype": "text/x-python",
   "name": "python",
   "nbconvert_exporter": "python",
   "pygments_lexer": "ipython3",
   "version": "3.12.1"
  }
 },
 "nbformat": 4,
 "nbformat_minor": 2
}
